{
 "cells": [
  {
   "cell_type": "markdown",
   "metadata": {},
   "source": [
    "# Cells Notebook (for Colab People)"
   ]
  },
  {
   "cell_type": "code",
   "execution_count": null,
   "metadata": {
    "colab": {
     "base_uri": "https://localhost:8080/"
    },
    "id": "H7h0RKvntNlX",
    "outputId": "896aa759-22a1-4ff7-9c7f-23591f104bc5"
   },
   "outputs": [],
   "source": [
    "# This downloads the plant cells image onto google drive\n",
    "!wget https://raw.githubusercontent.com/ursinus-cs371-s2022/HW2_PlantCellSegmentation/main/Cells.jpg"
   ]
  },
  {
   "cell_type": "code",
   "execution_count": null,
   "metadata": {
    "colab": {
     "base_uri": "https://localhost:8080/",
     "height": 269
    },
    "id": "zsR9wX1Ks8Ky",
    "outputId": "0cca8492-0e5f-40ab-d797-8bf590f8f89a"
   },
   "outputs": [],
   "source": [
    "import numpy as np\n",
    "from scipy import ndimage\n",
    "import matplotlib.pyplot as plt\n",
    "import skimage.io\n",
    "from skimage.transform import resize\n",
    "from skimage.color import rgb2gray\n",
    "import time\n",
    "\n",
    "def load_cells_grayscale(filename, n_pixels = 0):\n",
    "    \"\"\"\n",
    "    Load in a grayscale image of the cells, where 1 is maximum brightness\n",
    "    and 0 is minimum brightness\n",
    "    Parameters\n",
    "    ----------\n",
    "    filename: string\n",
    "        Path to image holding the cells\n",
    "    n_pixels: int\n",
    "        Number of pixels in the image\n",
    "    \n",
    "    Returns\n",
    "    -------\n",
    "    ndarray(N, N)\n",
    "        A square grayscale image\n",
    "    \"\"\"\n",
    "    cells_original = skimage.io.imread(filename)\n",
    "    cells_gray = rgb2gray(cells_original)\n",
    "    # Denoise a bit with a uniform filter\n",
    "    cells_gray = ndimage.uniform_filter(cells_gray, size=10)\n",
    "    cells_gray = cells_gray - np.min(cells_gray)\n",
    "    cells_gray = cells_gray/np.max(cells_gray)\n",
    "    N = int(np.sqrt(n_pixels))\n",
    "    if n_pixels > 0:\n",
    "        # Resize to a square image\n",
    "        cells_gray = resize(cells_gray, (N, N), anti_aliasing=True)\n",
    "    return cells_gray\n",
    "\n",
    "\n",
    "def permute_labels(labels):\n",
    "    \"\"\"\n",
    "    Shuffle around labels by raising them to a prime and\n",
    "    modding by a large-ish prime, so that cells are easier\n",
    "    to see against their backround\n",
    "    Parameters\n",
    "    ----------\n",
    "    labels: ndarray(M, N)\n",
    "        An array of labels for the pixels in the image\n",
    "    Returns\n",
    "    -------\n",
    "    labels_shuffled: ndarray(M, N)\n",
    "        A new image where the labels are different but still\n",
    "        the same within connected components\n",
    "    \"\"\"\n",
    "    return (labels**31) % 833\n",
    "\n",
    "\n",
    "## TODO: Fill in your code here\n",
    "\n",
    "if __name__ == '__main__':\n",
    "    I = load_cells_grayscale(\"Cells.jpg\")\n",
    "    plt.imshow(I, cmap='magma')\n",
    "    plt.show()"
   ]
  },
  {
   "cell_type": "code",
   "execution_count": null,
   "metadata": {
    "id": "Q6Vq2iSEtQYu"
   },
   "outputs": [],
   "source": []
  }
 ],
 "metadata": {
  "colab": {
   "collapsed_sections": [],
   "name": "Cells.ipynb",
   "provenance": []
  },
  "kernelspec": {
   "display_name": "Python 3 (ipykernel)",
   "language": "python",
   "name": "python3"
  },
  "language_info": {
   "codemirror_mode": {
    "name": "ipython",
    "version": 3
   },
   "file_extension": ".py",
   "mimetype": "text/x-python",
   "name": "python",
   "nbconvert_exporter": "python",
   "pygments_lexer": "ipython3",
   "version": "3.9.7"
  }
 },
 "nbformat": 4,
 "nbformat_minor": 1
}
